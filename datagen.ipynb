{
 "cells": [
  {
   "cell_type": "code",
   "execution_count": 2,
   "metadata": {},
   "outputs": [
    {
     "name": "stdout",
     "output_type": "stream",
     "text": [
      "      age  sex  cp  trtbps  chol  fbs  restecg  thalachh  exng   oldpeak  slp  \\\n",
      "0      46    1   1     104   552    1        1       150     1  0.507515    2   \n",
      "1      62    1   1     105   278    1        3       201     1  3.846573    0   \n",
      "2      60    1   0     110   496    0        1       142     1  5.039218    2   \n",
      "3      47    1   1     114   260    1        0       183     1  4.120507    2   \n",
      "4      75    1   0     122   281    0        2       192     0  0.501170    2   \n",
      "...   ...  ...  ..     ...   ...  ...      ...       ...   ...       ...  ...   \n",
      "1192   52    1   2     106   200    1        0       161     1  3.923737    0   \n",
      "1193   50    1   3      77   297    1        3       184     0  0.330026    1   \n",
      "1194   49    1   2     160   269    0        0       198     1  5.884051    2   \n",
      "1195   49    1   0     114   195    0        0       172     0  5.511639    2   \n",
      "1196   56    1   0     113   188    0        1       140     1  4.343536    1   \n",
      "\n",
      "      caa  thall       output  \n",
      "0       2      3   low_chance  \n",
      "1       0      0  high_chance  \n",
      "2       5      0   low_chance  \n",
      "3       4      2   low_chance  \n",
      "4       1      3  high_chance  \n",
      "...   ...    ...          ...  \n",
      "1192    3      3  high_chance  \n",
      "1193    2      1  high_chance  \n",
      "1194    0      3   low_chance  \n",
      "1195    1      1  high_chance  \n",
      "1196    0      2   low_chance  \n",
      "\n",
      "[1197 rows x 14 columns]\n"
     ]
    }
   ],
   "source": [
    "\n",
    "from ctgan import CTGAN\n",
    "from ctgan import load_demo\n",
    "import pandas as pd\n",
    "\n",
    "\n",
    "real_data = pd.read_csv(\"./heart_datagen.csv\")\n",
    "\n",
    "\n",
    "# Names of the columns that are discrete\n",
    "discrete_columns = [\n",
    "\"output\",\n",
    "]\n",
    "\n",
    "\n",
    "ctgan = CTGAN(epochs=10)\n",
    "ctgan.fit(real_data, discrete_columns)\n",
    "\n",
    "# Create synthetic data\n",
    "synthetic_data = ctgan.sample(1197)\n",
    "print(synthetic_data)\n"
   ]
  },
  {
   "cell_type": "code",
   "execution_count": 3,
   "metadata": {},
   "outputs": [
    {
     "ename": "NameError",
     "evalue": "name 'false' is not defined",
     "output_type": "error",
     "traceback": [
      "\u001b[0;31m---------------------------------------------------------------------------\u001b[0m",
      "\u001b[0;31mNameError\u001b[0m                                 Traceback (most recent call last)",
      "Cell \u001b[0;32mIn[3], line 2\u001b[0m\n\u001b[1;32m      1\u001b[0m synthetic_data[\u001b[39m'\u001b[39m\u001b[39moldpeak\u001b[39m\u001b[39m'\u001b[39m] \u001b[39m=\u001b[39m \u001b[39mround\u001b[39m(synthetic_data[\u001b[39m'\u001b[39m\u001b[39moldpeak\u001b[39m\u001b[39m'\u001b[39m], \u001b[39m1\u001b[39m)\n\u001b[0;32m----> 2\u001b[0m synthetic_data\u001b[39m.\u001b[39mto_csv(\u001b[39m\"\u001b[39m\u001b[39mheart_synth3.csv\u001b[39m\u001b[39m\"\u001b[39m, index\u001b[39m=\u001b[39mfalse)\n",
      "\u001b[0;31mNameError\u001b[0m: name 'false' is not defined"
     ]
    }
   ],
   "source": [
    "synthetic_data['oldpeak'] = round(synthetic_data['oldpeak'], 1)\n",
    "synthetic_data.to_csv(\"heart_synth3.csv\", index=False)"
   ]
  }
 ],
 "metadata": {
  "kernelspec": {
   "display_name": "Python 3",
   "language": "python",
   "name": "python3"
  },
  "language_info": {
   "codemirror_mode": {
    "name": "ipython",
    "version": 3
   },
   "file_extension": ".py",
   "mimetype": "text/x-python",
   "name": "python",
   "nbconvert_exporter": "python",
   "pygments_lexer": "ipython3",
   "version": "3.10.9"
  },
  "orig_nbformat": 4
 },
 "nbformat": 4,
 "nbformat_minor": 2
}
