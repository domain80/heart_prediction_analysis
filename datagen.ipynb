{
 "cells": [
  {
   "cell_type": "code",
   "execution_count": 3,
   "metadata": {},
   "outputs": [
    {
     "name": "stdout",
     "output_type": "stream",
     "text": [
      "      age  sex  cp  trtbps  chol  fbs  restecg  thalachh  exng   oldpeak  slp  \\\n",
      "0      53    1   4     105   252    0        2       169     0  0.059295    2   \n",
      "1      42    1   0      92   377    0        0        98     0  0.509963    0   \n",
      "2      33    1   0      97   118    0        3       120     1  0.111210    2   \n",
      "3      44    1   1      84   331    0        3       146     1  0.199070    2   \n",
      "4      40    1   1     146   158    1        1       142     0 -0.062795    0   \n",
      "...   ...  ...  ..     ...   ...  ...      ...       ...   ...       ...  ...   \n",
      "1192   33    0   0     103   289    1        1        95     1  0.341523    1   \n",
      "1193   62    1   2     117   690    0        3       125     1  0.482505    2   \n",
      "1194   40    0   0      92   185    0        0       125     0  1.342745    2   \n",
      "1195   49    0   3      99   197    0        3       127     1  0.418667    0   \n",
      "1196   41    0   1      99   242    0        2       103     1  4.334715    2   \n",
      "\n",
      "      caa  thall       output  \n",
      "0       2      2   low_chance  \n",
      "1       0      3  high_chance  \n",
      "2       1      3   low_chance  \n",
      "3       3      2   low_chance  \n",
      "4       1      2  high_chance  \n",
      "...   ...    ...          ...  \n",
      "1192    1      3  high_chance  \n",
      "1193    2      2  high_chance  \n",
      "1194    0      2  high_chance  \n",
      "1195    3      3  high_chance  \n",
      "1196    1      3  high_chance  \n",
      "\n",
      "[1197 rows x 14 columns]\n"
     ]
    }
   ],
   "source": [
    "\n",
    "from ctgan import CTGAN\n",
    "from ctgan import load_demo\n",
    "import pandas as pd\n",
    "\n",
    "\n",
    "real_data = pd.read_csv(\"./heart_datagen.csv\")\n",
    "\n",
    "\n",
    "# Names of the columns that are discrete\n",
    "discrete_columns = [\n",
    "\"output\",\n",
    "]\n",
    "\n",
    "\n",
    "ctgan = CTGAN(epochs=10)\n",
    "ctgan.fit(real_data, discrete_columns)\n",
    "\n",
    "# Create synthetic data\n",
    "synthetic_data = ctgan.sample(1197)\n",
    "print(synthetic_data)\n"
   ]
  },
  {
   "cell_type": "code",
   "execution_count": 6,
   "metadata": {},
   "outputs": [],
   "source": [
    "synthetic_data['oldpeak'] = round(synthetic_data['oldpeak'], 1)\n",
    "synthetic_data.to_csv(\"heart_synth3.csv\")"
   ]
  }
 ],
 "metadata": {
  "kernelspec": {
   "display_name": "Python 3",
   "language": "python",
   "name": "python3"
  },
  "language_info": {
   "codemirror_mode": {
    "name": "ipython",
    "version": 3
   },
   "file_extension": ".py",
   "mimetype": "text/x-python",
   "name": "python",
   "nbconvert_exporter": "python",
   "pygments_lexer": "ipython3",
   "version": "3.10.9"
  },
  "orig_nbformat": 4
 },
 "nbformat": 4,
 "nbformat_minor": 2
}
